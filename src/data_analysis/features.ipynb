{
 "cells": [
  {
   "cell_type": "code",
   "execution_count": 1,
   "metadata": {},
   "outputs": [],
   "source": [
    "import pandas as pd"
   ]
  },
  {
   "cell_type": "code",
   "execution_count": 2,
   "metadata": {},
   "outputs": [
    {
     "data": {
      "text/html": [
       "<div>\n",
       "<style scoped>\n",
       "    .dataframe tbody tr th:only-of-type {\n",
       "        vertical-align: middle;\n",
       "    }\n",
       "\n",
       "    .dataframe tbody tr th {\n",
       "        vertical-align: top;\n",
       "    }\n",
       "\n",
       "    .dataframe thead th {\n",
       "        text-align: right;\n",
       "    }\n",
       "</style>\n",
       "<table border=\"1\" class=\"dataframe\">\n",
       "  <thead>\n",
       "    <tr style=\"text-align: right;\">\n",
       "      <th></th>\n",
       "      <th>eta</th>\n",
       "      <th>phi</th>\n",
       "      <th>e</th>\n",
       "      <th>et</th>\n",
       "      <th>delta_phi</th>\n",
       "      <th>delta_eta</th>\n",
       "      <th>entry_idx</th>\n",
       "      <th>sampling</th>\n",
       "      <th>detector</th>\n",
       "    </tr>\n",
       "  </thead>\n",
       "  <tbody>\n",
       "    <tr>\n",
       "      <th>0</th>\n",
       "      <td>2.8199</td>\n",
       "      <td>0.2454</td>\n",
       "      <td>21.213661</td>\n",
       "      <td>2.520218</td>\n",
       "      <td>0.0982</td>\n",
       "      <td>0.1</td>\n",
       "      <td>0</td>\n",
       "      <td>11</td>\n",
       "      <td>2</td>\n",
       "    </tr>\n",
       "    <tr>\n",
       "      <th>1</th>\n",
       "      <td>2.8199</td>\n",
       "      <td>0.3436</td>\n",
       "      <td>-7.099076</td>\n",
       "      <td>-0.843382</td>\n",
       "      <td>0.0982</td>\n",
       "      <td>0.1</td>\n",
       "      <td>0</td>\n",
       "      <td>11</td>\n",
       "      <td>2</td>\n",
       "    </tr>\n",
       "    <tr>\n",
       "      <th>2</th>\n",
       "      <td>2.8199</td>\n",
       "      <td>0.4418</td>\n",
       "      <td>61.984116</td>\n",
       "      <td>7.363814</td>\n",
       "      <td>0.0982</td>\n",
       "      <td>0.1</td>\n",
       "      <td>0</td>\n",
       "      <td>11</td>\n",
       "      <td>2</td>\n",
       "    </tr>\n",
       "    <tr>\n",
       "      <th>3</th>\n",
       "      <td>2.8199</td>\n",
       "      <td>0.5400</td>\n",
       "      <td>85.845123</td>\n",
       "      <td>10.198541</td>\n",
       "      <td>0.0982</td>\n",
       "      <td>0.1</td>\n",
       "      <td>0</td>\n",
       "      <td>11</td>\n",
       "      <td>2</td>\n",
       "    </tr>\n",
       "    <tr>\n",
       "      <th>4</th>\n",
       "      <td>2.8199</td>\n",
       "      <td>0.6381</td>\n",
       "      <td>47.559380</td>\n",
       "      <td>5.650132</td>\n",
       "      <td>0.0982</td>\n",
       "      <td>0.1</td>\n",
       "      <td>0</td>\n",
       "      <td>11</td>\n",
       "      <td>2</td>\n",
       "    </tr>\n",
       "  </tbody>\n",
       "</table>\n",
       "</div>"
      ],
      "text/plain": [
       "      eta     phi          e         et  delta_phi  delta_eta  entry_idx  \\\n",
       "0  2.8199  0.2454  21.213661   2.520218     0.0982        0.1          0   \n",
       "1  2.8199  0.3436  -7.099076  -0.843382     0.0982        0.1          0   \n",
       "2  2.8199  0.4418  61.984116   7.363814     0.0982        0.1          0   \n",
       "3  2.8199  0.5400  85.845123  10.198541     0.0982        0.1          0   \n",
       "4  2.8199  0.6381  47.559380   5.650132     0.0982        0.1          0   \n",
       "\n",
       "   sampling  detector  \n",
       "0        11         2  \n",
       "1        11         2  \n",
       "2        11         2  \n",
       "3        11         2  \n",
       "4        11         2  "
      ]
     },
     "execution_count": 2,
     "metadata": {},
     "output_type": "execute_result"
    }
   ],
   "source": [
    "df = pd.read_csv('../../data/events_000000-001000.csv', sep=\";\")\n",
    "\n",
    "df.head()"
   ]
  },
  {
   "cell_type": "code",
   "execution_count": 3,
   "metadata": {},
   "outputs": [
    {
     "data": {
      "text/plain": [
       "eta          2827.255\n",
       "phi          2827.255\n",
       "e            2827.255\n",
       "et           2827.255\n",
       "delta_phi    2827.255\n",
       "delta_eta    2827.255\n",
       "entry_idx    2827.255\n",
       "sampling     2827.255\n",
       "detector     2827.255\n",
       "dtype: float64"
      ]
     },
     "execution_count": 3,
     "metadata": {},
     "output_type": "execute_result"
    }
   ],
   "source": [
    "mean = 0\n",
    "for event_idx in df['entry_idx'].unique():\n",
    "    mean += df[df['entry_idx'] == event_idx].count()\n",
    "\n",
    "mean = mean / len(df['entry_idx'].unique())\n",
    "\n",
    "\n",
    "mean"
   ]
  },
  {
   "cell_type": "code",
   "execution_count": 14,
   "metadata": {},
   "outputs": [
    {
     "data": {
      "text/plain": [
       "0.2000000476837158"
      ]
     },
     "execution_count": 14,
     "metadata": {},
     "output_type": "execute_result"
    }
   ],
   "source": [
    "df['delta_eta'].max()"
   ]
  },
  {
   "cell_type": "code",
   "execution_count": 11,
   "metadata": {},
   "outputs": [
    {
     "name": "stdout",
     "output_type": "stream",
     "text": [
      "11 938 31\n",
      "12 120 122\n",
      "13 60 122\n",
      "14 30 31\n",
      "16 30 31\n",
      "15 30 31\n",
      "0 120 31\n",
      "2 938 31\n",
      "3 120 122\n",
      "4 60 122\n",
      "5 30 31\n",
      "6 30 31\n",
      "7 15 31\n",
      "8 30 31\n",
      "1 120 31\n",
      "9 30 31\n",
      "10 15 31\n"
     ]
    }
   ],
   "source": [
    "\n",
    "for camada in df['sampling'].unique():\n",
    "    n_size = round(abs(3/df[df['sampling'] == camada]['delta_eta'].min()))\n",
    "    m_size = round(abs(3/df[df['sampling'] == camada]['delta_phi'].min()))\n",
    "    print(camada, n_size, m_size)\n",
    "\n"
   ]
  },
  {
   "cell_type": "code",
   "execution_count": 22,
   "metadata": {},
   "outputs": [
    {
     "name": "stdout",
     "output_type": "stream",
     "text": [
      "      eta     phi          e         et  delta_phi  delta_eta  entry_idx  \\\n",
      "0  2.8199  0.2454  21.213661   2.520218     0.0982        0.1          0   \n",
      "1  2.8199  0.3436  -7.099076  -0.843382     0.0982        0.1          0   \n",
      "2  2.8199  0.4418  61.984116   7.363814     0.0982        0.1          0   \n",
      "3  2.8199  0.5400  85.845123  10.198541     0.0982        0.1          0   \n",
      "4  2.8199  0.6381  47.559380   5.650132     0.0982        0.1          0   \n",
      "\n",
      "   sampling  detector  \n",
      "0        11         2  \n",
      "1        11         2  \n",
      "2        11         2  \n",
      "3        11         2  \n",
      "4        11         2  \n"
     ]
    },
    {
     "name": "stderr",
     "output_type": "stream",
     "text": [
      "C:\\Users\\assis\\AppData\\Local\\Temp\\ipykernel_4648\\971111545.py:7: UserWarning: Boolean Series key will be reindexed to match DataFrame index.\n",
      "  print(data[df['sampling'] == cell]['eta'].min(), data[cell['sampling'] == cell]['eta'].max())\n"
     ]
    },
    {
     "ename": "TypeError",
     "evalue": "'int' object is not subscriptable",
     "output_type": "error",
     "traceback": [
      "\u001b[1;31m---------------------------------------------------------------------------\u001b[0m",
      "\u001b[1;31mTypeError\u001b[0m                                 Traceback (most recent call last)",
      "\u001b[1;32md:\\Projetos\\l0_ringer\\src\\data_analysis\\features.ipynb Célula 6\u001b[0m line \u001b[0;36m7\n\u001b[0;32m      <a href='vscode-notebook-cell:/d%3A/Projetos/l0_ringer/src/data_analysis/features.ipynb#W6sZmlsZQ%3D%3D?line=3'>4</a>\u001b[0m \u001b[39mprint\u001b[39m(data\u001b[39m.\u001b[39mhead())\n\u001b[0;32m      <a href='vscode-notebook-cell:/d%3A/Projetos/l0_ringer/src/data_analysis/features.ipynb#W6sZmlsZQ%3D%3D?line=5'>6</a>\u001b[0m \u001b[39mfor\u001b[39;00m cell \u001b[39min\u001b[39;00m \u001b[39mrange\u001b[39m(\u001b[39mlen\u001b[39m(data[\u001b[39m'\u001b[39m\u001b[39msampling\u001b[39m\u001b[39m'\u001b[39m]\u001b[39m.\u001b[39munique())):\n\u001b[1;32m----> <a href='vscode-notebook-cell:/d%3A/Projetos/l0_ringer/src/data_analysis/features.ipynb#W6sZmlsZQ%3D%3D?line=6'>7</a>\u001b[0m     \u001b[39mprint\u001b[39m(data[df[\u001b[39m'\u001b[39m\u001b[39msampling\u001b[39m\u001b[39m'\u001b[39m] \u001b[39m==\u001b[39m cell][\u001b[39m'\u001b[39m\u001b[39meta\u001b[39m\u001b[39m'\u001b[39m]\u001b[39m.\u001b[39mmin(), data[cell[\u001b[39m'\u001b[39;49m\u001b[39msampling\u001b[39;49m\u001b[39m'\u001b[39;49m] \u001b[39m==\u001b[39m cell][\u001b[39m'\u001b[39m\u001b[39meta\u001b[39m\u001b[39m'\u001b[39m]\u001b[39m.\u001b[39mmax())\n\u001b[0;32m      <a href='vscode-notebook-cell:/d%3A/Projetos/l0_ringer/src/data_analysis/features.ipynb#W6sZmlsZQ%3D%3D?line=7'>8</a>\u001b[0m     \u001b[39mprint\u001b[39m(data[cell[\u001b[39m'\u001b[39m\u001b[39msampling\u001b[39m\u001b[39m'\u001b[39m] \u001b[39m==\u001b[39m cell][\u001b[39m'\u001b[39m\u001b[39mphi\u001b[39m\u001b[39m'\u001b[39m]\u001b[39m.\u001b[39mmin(), data[cell[\u001b[39m'\u001b[39m\u001b[39msampling\u001b[39m\u001b[39m'\u001b[39m] \u001b[39m==\u001b[39m cell][\u001b[39m'\u001b[39m\u001b[39mphi\u001b[39m\u001b[39m'\u001b[39m]\u001b[39m.\u001b[39mmax())\n",
      "\u001b[1;31mTypeError\u001b[0m: 'int' object is not subscriptable"
     ]
    }
   ],
   "source": [
    "entry = 0\n",
    "\n",
    "data = df[df['entry_idx'] == entry]\n",
    "print(data.head())\n",
    "\n",
    "for cell in range(len(data['sampling'].unique())):\n",
    "    print(data[df['sampling'] == cell]['eta'].min(), data[cell['sampling'] == cell]['eta'].max())\n",
    "    print(data[cell['sampling'] == cell]['phi'].min(), data[cell['sampling'] == cell]['phi'].max())"
   ]
  }
 ],
 "metadata": {
  "kernelspec": {
   "display_name": "base",
   "language": "python",
   "name": "python3"
  },
  "language_info": {
   "codemirror_mode": {
    "name": "ipython",
    "version": 3
   },
   "file_extension": ".py",
   "mimetype": "text/x-python",
   "name": "python",
   "nbconvert_exporter": "python",
   "pygments_lexer": "ipython3",
   "version": "3.10.13"
  }
 },
 "nbformat": 4,
 "nbformat_minor": 2
}
